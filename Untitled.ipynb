{
 "cells": [
  {
   "cell_type": "markdown",
   "metadata": {},
   "source": [
    "# Get Youtube Link and Parse the Data\n",
    "## Data To Parse\n",
    "###  video link, video views, uploaded date, comments, like, dislikes"
   ]
  },
  {
   "cell_type": "code",
   "execution_count": 1,
   "metadata": {},
   "outputs": [],
   "source": [
    "import pandas as pd\n",
    "import numpy as np\n",
    "import requests\n",
    "from bs4 import BeautifulSoup\n",
    "from googleapiclient.discovery import build"
   ]
  },
  {
   "cell_type": "markdown",
   "metadata": {},
   "source": [
    "# Get the channel "
   ]
  },
  {
   "cell_type": "code",
   "execution_count": 2,
   "metadata": {},
   "outputs": [],
   "source": [
    "fhand= open(\"api_key.txt\")\n",
    "youtube_api_key= str(fhand.read())\n",
    "youtube= build(\"youtube\",\"v3\",developerKey= youtube_api_key)"
   ]
  },
  {
   "cell_type": "code",
   "execution_count": 3,
   "metadata": {},
   "outputs": [
    {
     "name": "stdout",
     "output_type": "stream",
     "text": [
      "{'kind': 'youtube#searchResult', 'etag': 'zXUEtq-8e3Xttv6ta04-Dhk-U5s', 'id': {'kind': 'youtube#channel', 'channelId': 'UC4a-Gbdw7vOaccHmFo40b9g'}, 'snippet': {'publishedAt': '2006-11-17T02:12:21Z', 'channelId': 'UC4a-Gbdw7vOaccHmFo40b9g', 'title': 'Khan Academy', 'description': 'Khan Academy is a 501(c)(3) nonprofit organization with the mission of providing a free, world-class education for anyone, anywhere. Our interactive practice ...', 'thumbnails': {'default': {'url': 'https://yt3.ggpht.com/-Sxo3Mp6e4Bg/AAAAAAAAAAI/AAAAAAAAAAA/vL4onTqTcjU/s88-c-k-no-mo-rj-c0xffffff/photo.jpg'}, 'medium': {'url': 'https://yt3.ggpht.com/-Sxo3Mp6e4Bg/AAAAAAAAAAI/AAAAAAAAAAA/vL4onTqTcjU/s240-c-k-no-mo-rj-c0xffffff/photo.jpg'}, 'high': {'url': 'https://yt3.ggpht.com/-Sxo3Mp6e4Bg/AAAAAAAAAAI/AAAAAAAAAAA/vL4onTqTcjU/s800-c-k-no-mo-rj-c0xffffff/photo.jpg'}}, 'channelTitle': 'Khan Academy', 'liveBroadcastContent': 'upcoming', 'publishTime': '2006-11-17T02:12:21Z'}}\n",
      "{'kind': 'youtube#searchResult', 'etag': 'nvBiJ5DTXgUJ7TtvcM5jdatA8KY', 'id': {'kind': 'youtube#channel', 'channelId': 'UCU0kWLAbhVGxXarmE3b8rHg'}, 'snippet': {'publishedAt': '2017-03-09T18:14:47Z', 'channelId': 'UCU0kWLAbhVGxXarmE3b8rHg', 'title': 'Khan Academy India', 'description': 'Our mission is to provide a world-class education for anyone, anywhere. All Khan Academy content is available for free at www.khanacademy.org.', 'thumbnails': {'default': {'url': 'https://yt3.ggpht.com/-nnkgPnbLOcw/AAAAAAAAAAI/AAAAAAAAAAA/fjyIT1iClUQ/s88-c-k-no-mo-rj-c0xffffff/photo.jpg'}, 'medium': {'url': 'https://yt3.ggpht.com/-nnkgPnbLOcw/AAAAAAAAAAI/AAAAAAAAAAA/fjyIT1iClUQ/s240-c-k-no-mo-rj-c0xffffff/photo.jpg'}, 'high': {'url': 'https://yt3.ggpht.com/-nnkgPnbLOcw/AAAAAAAAAAI/AAAAAAAAAAA/fjyIT1iClUQ/s800-c-k-no-mo-rj-c0xffffff/photo.jpg'}}, 'channelTitle': 'Khan Academy India', 'liveBroadcastContent': 'upcoming', 'publishTime': '2017-03-09T18:14:47Z'}}\n",
      "{'kind': 'youtube#searchResult', 'etag': 'u5xFBTOkMTRZeUt_vLM6nrK937s', 'id': {'kind': 'youtube#channel', 'channelId': 'UCg4BkaHyyE_4-RvEMJ2PTtA'}, 'snippet': {'publishedAt': '2018-03-08T20:00:29Z', 'channelId': 'UCg4BkaHyyE_4-RvEMJ2PTtA', 'title': 'Khan Academy India - English', 'description': 'Our mission is to provide a world-class education for anyone, anywhere. All Khan Academy content is available for free at www.khanacademy.org.', 'thumbnails': {'default': {'url': 'https://yt3.ggpht.com/-yQDI99dAqsA/AAAAAAAAAAI/AAAAAAAAAAA/gzOmovxEGbg/s88-c-k-no-mo-rj-c0xffffff/photo.jpg'}, 'medium': {'url': 'https://yt3.ggpht.com/-yQDI99dAqsA/AAAAAAAAAAI/AAAAAAAAAAA/gzOmovxEGbg/s240-c-k-no-mo-rj-c0xffffff/photo.jpg'}, 'high': {'url': 'https://yt3.ggpht.com/-yQDI99dAqsA/AAAAAAAAAAI/AAAAAAAAAAA/gzOmovxEGbg/s800-c-k-no-mo-rj-c0xffffff/photo.jpg'}}, 'channelTitle': 'Khan Academy India - English', 'liveBroadcastContent': 'none', 'publishTime': '2018-03-08T20:00:29Z'}}\n",
      "{'kind': 'youtube#searchResult', 'etag': 'MkO4qxiPtcijISXIkX5JC_fgeBw', 'id': {'kind': 'youtube#channel', 'channelId': 'UCX115RdSOaEiWhwFRq6JIOA'}, 'snippet': {'publishedAt': '2017-05-04T11:02:00Z', 'channelId': 'UCX115RdSOaEiWhwFRq6JIOA', 'title': \"Khan's Academy\", 'description': \"Assalamu Alaikoom , Yeh channel KHAN'S ACADEMY tamaam Urdu medium talib-A-Ilm ke liye hai , jaha aap MATHS ( ILM-A-RIYAZI) ka Urdu explanation ...\", 'thumbnails': {'default': {'url': 'https://yt3.ggpht.com/-GOHWop1sf7o/AAAAAAAAAAI/AAAAAAAAAAA/DZYWESljfik/s88-c-k-no-mo-rj-c0xffffff/photo.jpg'}, 'medium': {'url': 'https://yt3.ggpht.com/-GOHWop1sf7o/AAAAAAAAAAI/AAAAAAAAAAA/DZYWESljfik/s240-c-k-no-mo-rj-c0xffffff/photo.jpg'}, 'high': {'url': 'https://yt3.ggpht.com/-GOHWop1sf7o/AAAAAAAAAAI/AAAAAAAAAAA/DZYWESljfik/s800-c-k-no-mo-rj-c0xffffff/photo.jpg'}}, 'channelTitle': \"Khan's Academy\", 'liveBroadcastContent': 'none', 'publishTime': '2017-05-04T11:02:00Z'}}\n",
      "{'kind': 'youtube#searchResult', 'etag': 'QSQI8iocam6VeBVwBgX7fdvYObE', 'id': {'kind': 'youtube#channel', 'channelId': 'UCye0TMXdb_zdfvVgXA0XtkA'}, 'snippet': {'publishedAt': '2013-08-16T07:31:44Z', 'channelId': 'UCye0TMXdb_zdfvVgXA0XtkA', 'title': 'Khan Academy Computing', 'description': '', 'thumbnails': {'default': {'url': 'https://yt3.ggpht.com/-kTpFourcM8k/AAAAAAAAAAI/AAAAAAAAAAA/rYEm7XqKXTk/s88-c-k-no-mo-rj-c0xffffff/photo.jpg'}, 'medium': {'url': 'https://yt3.ggpht.com/-kTpFourcM8k/AAAAAAAAAAI/AAAAAAAAAAA/rYEm7XqKXTk/s240-c-k-no-mo-rj-c0xffffff/photo.jpg'}, 'high': {'url': 'https://yt3.ggpht.com/-kTpFourcM8k/AAAAAAAAAAI/AAAAAAAAAAA/rYEm7XqKXTk/s800-c-k-no-mo-rj-c0xffffff/photo.jpg'}}, 'channelTitle': 'Khan Academy Computing', 'liveBroadcastContent': 'none', 'publishTime': '2013-08-16T07:31:44Z'}}\n"
     ]
    }
   ],
   "source": [
    "channels= youtube.search().list(part=\"snippet\", type=\"channel\" , q=\"Khan Academy\").execute()\n",
    "for channel in channels[\"items\"]:\n",
    "    print(channel)"
   ]
  },
  {
   "cell_type": "code",
   "execution_count": 4,
   "metadata": {},
   "outputs": [
    {
     "data": {
      "text/plain": [
       "'UC4a-Gbdw7vOaccHmFo40b9g'"
      ]
     },
     "execution_count": 4,
     "metadata": {},
     "output_type": "execute_result"
    }
   ],
   "source": [
    "channel_id= channels[\"items\"][0][\"snippet\"][\"channelId\"] #We will take the first channel\n",
    "channel_id"
   ]
  },
  {
   "cell_type": "code",
   "execution_count": 5,
   "metadata": {},
   "outputs": [],
   "source": [
    "details= youtube.channels().list(part=\"contentDetails\",id=channel_id).execute() \n",
    "#print(details)\n",
    "upload_id= details[\"items\"][0]['contentDetails']['relatedPlaylists']['uploads']"
   ]
  },
  {
   "cell_type": "code",
   "execution_count": 6,
   "metadata": {},
   "outputs": [],
   "source": [
    "channel_videos= list()\n",
    "token= None\n",
    "lst= youtube.playlistItems().list(playlistId=upload_id, maxResults=500, part=\"snippet\", pageToken= token).execute()\n",
    "i=0\n",
    "while i<10:\n",
    "    channel_videos+=lst[\"items\"]\n",
    "    token= lst.get(\"nextPageToken\")\n",
    "    \n",
    "    if token is None:\n",
    "        break\n",
    "    i+=1"
   ]
  },
  {
   "cell_type": "code",
   "execution_count": 7,
   "metadata": {},
   "outputs": [
    {
     "data": {
      "text/plain": [
       "500"
      ]
     },
     "execution_count": 7,
     "metadata": {},
     "output_type": "execute_result"
    }
   ],
   "source": [
    "len(channel_videos)"
   ]
  },
  {
   "cell_type": "code",
   "execution_count": 8,
   "metadata": {},
   "outputs": [
    {
     "data": {
      "text/plain": [
       "{'publishedAt': '2020-07-28T17:20:45Z',\n",
       " 'channelId': 'UC4a-Gbdw7vOaccHmFo40b9g',\n",
       " 'title': \"When gases aren't so ideal\",\n",
       " 'description': \"When gases aren't so ideal\",\n",
       " 'thumbnails': {'default': {'url': 'https://i.ytimg.com/vi/yDZcVKy52LM/default.jpg',\n",
       "   'width': 120,\n",
       "   'height': 90},\n",
       "  'medium': {'url': 'https://i.ytimg.com/vi/yDZcVKy52LM/mqdefault.jpg',\n",
       "   'width': 320,\n",
       "   'height': 180},\n",
       "  'high': {'url': 'https://i.ytimg.com/vi/yDZcVKy52LM/hqdefault.jpg',\n",
       "   'width': 480,\n",
       "   'height': 360},\n",
       "  'standard': {'url': 'https://i.ytimg.com/vi/yDZcVKy52LM/sddefault.jpg',\n",
       "   'width': 640,\n",
       "   'height': 480}},\n",
       " 'channelTitle': 'Khan Academy',\n",
       " 'playlistId': 'UU4a-Gbdw7vOaccHmFo40b9g',\n",
       " 'position': 1,\n",
       " 'resourceId': {'kind': 'youtube#video', 'videoId': 'yDZcVKy52LM'}}"
      ]
     },
     "execution_count": 8,
     "metadata": {},
     "output_type": "execute_result"
    }
   ],
   "source": [
    "channel_videos[1][\"snippet\"]"
   ]
  },
  {
   "cell_type": "code",
   "execution_count": 9,
   "metadata": {},
   "outputs": [],
   "source": [
    "video_ids= list(map(lambda x: x[\"snippet\"][\"resourceId\"][\"videoId\"],channel_videos))"
   ]
  },
  {
   "cell_type": "code",
   "execution_count": 10,
   "metadata": {},
   "outputs": [
    {
     "data": {
      "text/plain": [
       "500"
      ]
     },
     "execution_count": 10,
     "metadata": {},
     "output_type": "execute_result"
    }
   ],
   "source": [
    "len(video_ids)"
   ]
  },
  {
   "cell_type": "code",
   "execution_count": 11,
   "metadata": {},
   "outputs": [],
   "source": [
    "stats= list()\n",
    "\n",
    "for i in range(0,len(video_ids),50):\n",
    "    temp=  youtube.videos().list(id=\",\".join(video_ids[i:i+50]), part=\"statistics\").execute()\n",
    "    stats+= temp[\"items\"]\n",
    "    \n"
   ]
  },
  {
   "cell_type": "code",
   "execution_count": 12,
   "metadata": {},
   "outputs": [
    {
     "data": {
      "text/plain": [
       "500"
      ]
     },
     "execution_count": 12,
     "metadata": {},
     "output_type": "execute_result"
    }
   ],
   "source": [
    "len(stats)"
   ]
  },
  {
   "cell_type": "code",
   "execution_count": 13,
   "metadata": {},
   "outputs": [
    {
     "data": {
      "text/plain": [
       "{'kind': 'youtube#video',\n",
       " 'etag': '16IBAcMKN42a6USvflg2ht-2oAk',\n",
       " 'id': 'q3piH0H-woE',\n",
       " 'statistics': {'viewCount': '5033',\n",
       "  'likeCount': '130',\n",
       "  'dislikeCount': '4',\n",
       "  'favoriteCount': '0',\n",
       "  'commentCount': '6'}}"
      ]
     },
     "execution_count": 13,
     "metadata": {},
     "output_type": "execute_result"
    }
   ],
   "source": [
    "stats[0]"
   ]
  },
  {
   "cell_type": "markdown",
   "metadata": {},
   "source": [
    "### We can retrieve all the info now"
   ]
  },
  {
   "cell_type": "code",
   "execution_count": 14,
   "metadata": {},
   "outputs": [],
   "source": [
    "video_link, video_views, uploaded_date, comments, like, dislikes= list(), list(), list(), list(), list(), list()"
   ]
  },
  {
   "cell_type": "code",
   "execution_count": 15,
   "metadata": {},
   "outputs": [],
   "source": [
    "for i in range(len(video_ids)):\n",
    "    video_link.append(\"https://www.youtube.com/watch?v=\"+stats[i][\"id\"])\n",
    "    video_views.append(stats[i][\"statistics\"]['viewCount'])\n",
    "    uploaded_date.append(channel_videos[i][\"snippet\"]['publishedAt'])\n",
    "    like.append(stats[i][\"statistics\"][\"likeCount\"])\n",
    "    dislikes.append(stats[i][\"statistics\"][\"dislikeCount\"])\n",
    "    comments.append(stats[i][\"statistics\"][\"commentCount\"])\n",
    "\n",
    "final={\n",
    "    \"video_link\": video_link,\n",
    "    \"video_views\": video_views,\n",
    "    \"uploaded_date\": uploaded_date,\n",
    "    \"like\":like,\n",
    "    \"dislikes\": dislikes,\n",
    "    \"comments\": comments\n",
    "}"
   ]
  },
  {
   "cell_type": "code",
   "execution_count": 16,
   "metadata": {},
   "outputs": [],
   "source": [
    "df=pd.DataFrame(final)"
   ]
  },
  {
   "cell_type": "code",
   "execution_count": 17,
   "metadata": {},
   "outputs": [
    {
     "data": {
      "text/html": [
       "<div>\n",
       "<style scoped>\n",
       "    .dataframe tbody tr th:only-of-type {\n",
       "        vertical-align: middle;\n",
       "    }\n",
       "\n",
       "    .dataframe tbody tr th {\n",
       "        vertical-align: top;\n",
       "    }\n",
       "\n",
       "    .dataframe thead th {\n",
       "        text-align: right;\n",
       "    }\n",
       "</style>\n",
       "<table border=\"1\" class=\"dataframe\">\n",
       "  <thead>\n",
       "    <tr style=\"text-align: right;\">\n",
       "      <th></th>\n",
       "      <th>video_link</th>\n",
       "      <th>video_views</th>\n",
       "      <th>uploaded_date</th>\n",
       "      <th>like</th>\n",
       "      <th>dislikes</th>\n",
       "      <th>comments</th>\n",
       "    </tr>\n",
       "  </thead>\n",
       "  <tbody>\n",
       "    <tr>\n",
       "      <th>0</th>\n",
       "      <td>https://www.youtube.com/watch?v=q3piH0H-woE</td>\n",
       "      <td>5033</td>\n",
       "      <td>2020-07-29T01:31:45Z</td>\n",
       "      <td>130</td>\n",
       "      <td>4</td>\n",
       "      <td>6</td>\n",
       "    </tr>\n",
       "    <tr>\n",
       "      <th>1</th>\n",
       "      <td>https://www.youtube.com/watch?v=yDZcVKy52LM</td>\n",
       "      <td>2127</td>\n",
       "      <td>2020-07-28T17:20:45Z</td>\n",
       "      <td>47</td>\n",
       "      <td>1</td>\n",
       "      <td>9</td>\n",
       "    </tr>\n",
       "    <tr>\n",
       "      <th>2</th>\n",
       "      <td>https://www.youtube.com/watch?v=mm0Y3ym-JUg</td>\n",
       "      <td>6710</td>\n",
       "      <td>2020-07-29T19:35:16Z</td>\n",
       "      <td>377</td>\n",
       "      <td>21</td>\n",
       "      <td>26</td>\n",
       "    </tr>\n",
       "    <tr>\n",
       "      <th>3</th>\n",
       "      <td>https://www.youtube.com/watch?v=k00KEcYijo8</td>\n",
       "      <td>5592</td>\n",
       "      <td>2020-07-28T00:17:36Z</td>\n",
       "      <td>150</td>\n",
       "      <td>2</td>\n",
       "      <td>12</td>\n",
       "    </tr>\n",
       "    <tr>\n",
       "      <th>4</th>\n",
       "      <td>https://www.youtube.com/watch?v=OizpJlBhZAI</td>\n",
       "      <td>5763</td>\n",
       "      <td>2020-07-28T00:12:52Z</td>\n",
       "      <td>172</td>\n",
       "      <td>22</td>\n",
       "      <td>56</td>\n",
       "    </tr>\n",
       "  </tbody>\n",
       "</table>\n",
       "</div>"
      ],
      "text/plain": [
       "                                    video_link video_views  \\\n",
       "0  https://www.youtube.com/watch?v=q3piH0H-woE        5033   \n",
       "1  https://www.youtube.com/watch?v=yDZcVKy52LM        2127   \n",
       "2  https://www.youtube.com/watch?v=mm0Y3ym-JUg        6710   \n",
       "3  https://www.youtube.com/watch?v=k00KEcYijo8        5592   \n",
       "4  https://www.youtube.com/watch?v=OizpJlBhZAI        5763   \n",
       "\n",
       "          uploaded_date like dislikes comments  \n",
       "0  2020-07-29T01:31:45Z  130        4        6  \n",
       "1  2020-07-28T17:20:45Z   47        1        9  \n",
       "2  2020-07-29T19:35:16Z  377       21       26  \n",
       "3  2020-07-28T00:17:36Z  150        2       12  \n",
       "4  2020-07-28T00:12:52Z  172       22       56  "
      ]
     },
     "execution_count": 17,
     "metadata": {},
     "output_type": "execute_result"
    }
   ],
   "source": [
    "df.head()"
   ]
  },
  {
   "cell_type": "code",
   "execution_count": 18,
   "metadata": {},
   "outputs": [
    {
     "data": {
      "text/html": [
       "<div>\n",
       "<style scoped>\n",
       "    .dataframe tbody tr th:only-of-type {\n",
       "        vertical-align: middle;\n",
       "    }\n",
       "\n",
       "    .dataframe tbody tr th {\n",
       "        vertical-align: top;\n",
       "    }\n",
       "\n",
       "    .dataframe thead th {\n",
       "        text-align: right;\n",
       "    }\n",
       "</style>\n",
       "<table border=\"1\" class=\"dataframe\">\n",
       "  <thead>\n",
       "    <tr style=\"text-align: right;\">\n",
       "      <th></th>\n",
       "      <th>video_link</th>\n",
       "      <th>video_views</th>\n",
       "      <th>uploaded_date</th>\n",
       "      <th>like</th>\n",
       "      <th>dislikes</th>\n",
       "      <th>comments</th>\n",
       "    </tr>\n",
       "  </thead>\n",
       "  <tbody>\n",
       "    <tr>\n",
       "      <th>count</th>\n",
       "      <td>500</td>\n",
       "      <td>500</td>\n",
       "      <td>500</td>\n",
       "      <td>500</td>\n",
       "      <td>500</td>\n",
       "      <td>500</td>\n",
       "    </tr>\n",
       "    <tr>\n",
       "      <th>unique</th>\n",
       "      <td>50</td>\n",
       "      <td>49</td>\n",
       "      <td>50</td>\n",
       "      <td>45</td>\n",
       "      <td>16</td>\n",
       "      <td>19</td>\n",
       "    </tr>\n",
       "    <tr>\n",
       "      <th>top</th>\n",
       "      <td>https://www.youtube.com/watch?v=rI_sfYWvdyg</td>\n",
       "      <td>2129</td>\n",
       "      <td>2020-07-16T20:08:01Z</td>\n",
       "      <td>9</td>\n",
       "      <td>0</td>\n",
       "      <td>0</td>\n",
       "    </tr>\n",
       "    <tr>\n",
       "      <th>freq</th>\n",
       "      <td>10</td>\n",
       "      <td>20</td>\n",
       "      <td>10</td>\n",
       "      <td>20</td>\n",
       "      <td>110</td>\n",
       "      <td>230</td>\n",
       "    </tr>\n",
       "  </tbody>\n",
       "</table>\n",
       "</div>"
      ],
      "text/plain": [
       "                                         video_link video_views  \\\n",
       "count                                           500         500   \n",
       "unique                                           50          49   \n",
       "top     https://www.youtube.com/watch?v=rI_sfYWvdyg        2129   \n",
       "freq                                             10          20   \n",
       "\n",
       "               uploaded_date like dislikes comments  \n",
       "count                    500  500      500      500  \n",
       "unique                    50   45       16       19  \n",
       "top     2020-07-16T20:08:01Z    9        0        0  \n",
       "freq                      10   20      110      230  "
      ]
     },
     "execution_count": 18,
     "metadata": {},
     "output_type": "execute_result"
    }
   ],
   "source": [
    "df.describe()"
   ]
  },
  {
   "cell_type": "code",
   "execution_count": 19,
   "metadata": {},
   "outputs": [],
   "source": [
    "df.to_csv(\"Youtube_info.csv\")"
   ]
  },
  {
   "cell_type": "code",
   "execution_count": null,
   "metadata": {},
   "outputs": [],
   "source": []
  }
 ],
 "metadata": {
  "kernelspec": {
   "display_name": "Python 3",
   "language": "python",
   "name": "python3"
  },
  "language_info": {
   "codemirror_mode": {
    "name": "ipython",
    "version": 3
   },
   "file_extension": ".py",
   "mimetype": "text/x-python",
   "name": "python",
   "nbconvert_exporter": "python",
   "pygments_lexer": "ipython3",
   "version": "3.7.6"
  }
 },
 "nbformat": 4,
 "nbformat_minor": 4
}
